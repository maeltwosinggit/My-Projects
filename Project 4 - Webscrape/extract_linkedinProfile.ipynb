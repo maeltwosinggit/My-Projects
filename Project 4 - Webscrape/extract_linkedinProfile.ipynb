{
 "cells": [
  {
   "cell_type": "code",
   "execution_count": 20,
   "metadata": {},
   "outputs": [],
   "source": [
    "import pandas as pd\n",
    "from googlesearch import search\n",
    "from bs4 import BeautifulSoup\n",
    "import requests\n",
    "import time"
   ]
  },
  {
   "cell_type": "code",
   "execution_count": 28,
   "metadata": {},
   "outputs": [],
   "source": [
    "def get_first_google_link(query):\n",
    "    # Perform Google search and get the search results\n",
    "    try:\n",
    "        search_results = search(query, num_results=10, lang='en')\n",
    "    except Exception as e:\n",
    "        print(\"An error occurred while performing the search:\", str(e))\n",
    "        return None\n",
    "    \n",
    "    # Fetch the HTML content of the first search result link\n",
    "    for link in search_results:\n",
    "        try:\n",
    "            response = requests.get(link)\n",
    "            response.raise_for_status()  # Raise an exception for HTTP errors\n",
    "        except requests.RequestException as e:\n",
    "            print(\"An error occurred while fetching the URL:\", str(e))\n",
    "            continue\n",
    "        \n",
    "        if response.status_code == 200:\n",
    "            # Parse the HTML content using BeautifulSoup\n",
    "            soup = BeautifulSoup(response.content, 'html.parser')\n",
    "            # Find and extract the first search result link\n",
    "            first_link = link\n",
    "            # Find and extract the title of the first link\n",
    "            title = soup.title.string if soup.title else None\n",
    "            return {\n",
    "                'query': query,\n",
    "                'title': title,\n",
    "                'link': first_link\n",
    "            }\n",
    "    \n",
    "    # If no link is found, return None\n",
    "    return None"
   ]
  },
  {
   "cell_type": "code",
   "execution_count": 25,
   "metadata": {},
   "outputs": [
    {
     "data": {
      "text/html": [
       "<div>\n",
       "<style scoped>\n",
       "    .dataframe tbody tr th:only-of-type {\n",
       "        vertical-align: middle;\n",
       "    }\n",
       "\n",
       "    .dataframe tbody tr th {\n",
       "        vertical-align: top;\n",
       "    }\n",
       "\n",
       "    .dataframe thead th {\n",
       "        text-align: right;\n",
       "    }\n",
       "</style>\n",
       "<table border=\"1\" class=\"dataframe\">\n",
       "  <thead>\n",
       "    <tr style=\"text-align: right;\">\n",
       "      <th></th>\n",
       "      <th>Full Name</th>\n",
       "      <th>Salutation</th>\n",
       "      <th>Name</th>\n",
       "      <th>Query</th>\n",
       "    </tr>\n",
       "  </thead>\n",
       "  <tbody>\n",
       "    <tr>\n",
       "      <th>0</th>\n",
       "      <td>ASSOC PROF. Ir. Dr. SAIDDI ALI FIRDAUS B MOHAM...</td>\n",
       "      <td>ASSOC PROF. Ir. Dr.</td>\n",
       "      <td>SAIDDI ALI FIRDAUS B MOHAMED ISHAK</td>\n",
       "      <td>ASSOC PROF. Ir. Dr. SAIDDI ALI FIRDAUS B MOHAM...</td>\n",
       "    </tr>\n",
       "  </tbody>\n",
       "</table>\n",
       "</div>"
      ],
      "text/plain": [
       "                                           Full Name           Salutation  \\\n",
       "0  ASSOC PROF. Ir. Dr. SAIDDI ALI FIRDAUS B MOHAM...  ASSOC PROF. Ir. Dr.   \n",
       "\n",
       "                                 Name  \\\n",
       "0  SAIDDI ALI FIRDAUS B MOHAMED ISHAK   \n",
       "\n",
       "                                               Query  \n",
       "0  ASSOC PROF. Ir. Dr. SAIDDI ALI FIRDAUS B MOHAM...  "
      ]
     },
     "execution_count": 25,
     "metadata": {},
     "output_type": "execute_result"
    }
   ],
   "source": [
    "# Read the CSV file into a pandas DataFrame\n",
    "df = pd.read_excel('salutation_seperated.xlsx')\n",
    "df['Query'] = df['Full Name'] + ' Linkedin'\n",
    "df1 = df.head(1)\n",
    "df1"
   ]
  },
  {
   "cell_type": "code",
   "execution_count": 29,
   "metadata": {},
   "outputs": [
    {
     "ename": "HTTPError",
     "evalue": "429 Client Error: Too Many Requests for url: https://www.google.com/sorry/index?continue=https://www.google.com/search%3Fq%3DASSOC%252BPROF.%252BIr.%252BDr.%252BSAIDDI%252BALI%252BFIRDAUS%252BB%252BMOHAMED%252BISHAK%252BLinkedin%26num%3D12%26hl%3Den%26start%3D0&hl=en&q=EgS3q2b9GPKpk7EGIjCLQaJOq478v40R880mCno3ya2fC7w0XyQ2fUhYYQZNJdxQU00XA4PjW9vprvax6eEyAXJaAUM",
     "output_type": "error",
     "traceback": [
      "\u001b[1;31m---------------------------------------------------------------------------\u001b[0m",
      "\u001b[1;31mHTTPError\u001b[0m                                 Traceback (most recent call last)",
      "Cell \u001b[1;32mIn[29], line 6\u001b[0m\n\u001b[0;32m      4\u001b[0m \u001b[38;5;66;03m# Iterate over queries in the DataFrame\u001b[39;00m\n\u001b[0;32m      5\u001b[0m \u001b[38;5;28;01mfor\u001b[39;00m query \u001b[38;5;129;01min\u001b[39;00m df1[\u001b[38;5;124m'\u001b[39m\u001b[38;5;124mQuery\u001b[39m\u001b[38;5;124m'\u001b[39m]:\n\u001b[1;32m----> 6\u001b[0m     result \u001b[38;5;241m=\u001b[39m \u001b[43mget_first_google_link\u001b[49m\u001b[43m(\u001b[49m\u001b[43mquery\u001b[49m\u001b[43m)\u001b[49m\n\u001b[0;32m      7\u001b[0m     \u001b[38;5;28;01mif\u001b[39;00m result:\n\u001b[0;32m      8\u001b[0m         results\u001b[38;5;241m.\u001b[39mappend(result)\n",
      "Cell \u001b[1;32mIn[28], line 10\u001b[0m, in \u001b[0;36mget_first_google_link\u001b[1;34m(query)\u001b[0m\n\u001b[0;32m      7\u001b[0m     \u001b[38;5;28;01mreturn\u001b[39;00m \u001b[38;5;28;01mNone\u001b[39;00m\n\u001b[0;32m      9\u001b[0m \u001b[38;5;66;03m# Fetch the HTML content of the first search result link\u001b[39;00m\n\u001b[1;32m---> 10\u001b[0m \u001b[43m\u001b[49m\u001b[38;5;28;43;01mfor\u001b[39;49;00m\u001b[43m \u001b[49m\u001b[43mlink\u001b[49m\u001b[43m \u001b[49m\u001b[38;5;129;43;01min\u001b[39;49;00m\u001b[43m \u001b[49m\u001b[43msearch_results\u001b[49m\u001b[43m:\u001b[49m\n\u001b[0;32m     11\u001b[0m \u001b[43m    \u001b[49m\u001b[38;5;28;43;01mtry\u001b[39;49;00m\u001b[43m:\u001b[49m\n\u001b[0;32m     12\u001b[0m \u001b[43m        \u001b[49m\u001b[43mresponse\u001b[49m\u001b[43m \u001b[49m\u001b[38;5;241;43m=\u001b[39;49m\u001b[43m \u001b[49m\u001b[43mrequests\u001b[49m\u001b[38;5;241;43m.\u001b[39;49m\u001b[43mget\u001b[49m\u001b[43m(\u001b[49m\u001b[43mlink\u001b[49m\u001b[43m)\u001b[49m\n",
      "File \u001b[1;32mc:\\Users\\uadrian\\AppData\\Local\\Programs\\Python\\Python312\\Lib\\site-packages\\googlesearch\\__init__.py:54\u001b[0m, in \u001b[0;36msearch\u001b[1;34m(term, num_results, lang, proxy, advanced, sleep_interval, timeout)\u001b[0m\n\u001b[0;32m     51\u001b[0m start \u001b[38;5;241m=\u001b[39m \u001b[38;5;241m0\u001b[39m\n\u001b[0;32m     52\u001b[0m \u001b[38;5;28;01mwhile\u001b[39;00m start \u001b[38;5;241m<\u001b[39m num_results:\n\u001b[0;32m     53\u001b[0m     \u001b[38;5;66;03m# Send request\u001b[39;00m\n\u001b[1;32m---> 54\u001b[0m     resp \u001b[38;5;241m=\u001b[39m \u001b[43m_req\u001b[49m\u001b[43m(\u001b[49m\u001b[43mescaped_term\u001b[49m\u001b[43m,\u001b[49m\u001b[43m \u001b[49m\u001b[43mnum_results\u001b[49m\u001b[43m \u001b[49m\u001b[38;5;241;43m-\u001b[39;49m\u001b[43m \u001b[49m\u001b[43mstart\u001b[49m\u001b[43m,\u001b[49m\n\u001b[0;32m     55\u001b[0m \u001b[43m                \u001b[49m\u001b[43mlang\u001b[49m\u001b[43m,\u001b[49m\u001b[43m \u001b[49m\u001b[43mstart\u001b[49m\u001b[43m,\u001b[49m\u001b[43m \u001b[49m\u001b[43mproxies\u001b[49m\u001b[43m,\u001b[49m\u001b[43m \u001b[49m\u001b[43mtimeout\u001b[49m\u001b[43m)\u001b[49m\n\u001b[0;32m     57\u001b[0m     \u001b[38;5;66;03m# Parse\u001b[39;00m\n\u001b[0;32m     58\u001b[0m     soup \u001b[38;5;241m=\u001b[39m BeautifulSoup(resp\u001b[38;5;241m.\u001b[39mtext, \u001b[38;5;124m\"\u001b[39m\u001b[38;5;124mhtml.parser\u001b[39m\u001b[38;5;124m\"\u001b[39m)\n",
      "File \u001b[1;32mc:\\Users\\uadrian\\AppData\\Local\\Programs\\Python\\Python312\\Lib\\site-packages\\googlesearch\\__init__.py:23\u001b[0m, in \u001b[0;36m_req\u001b[1;34m(term, results, lang, start, proxies, timeout)\u001b[0m\n\u001b[0;32m      8\u001b[0m \u001b[38;5;28;01mdef\u001b[39;00m \u001b[38;5;21m_req\u001b[39m(term, results, lang, start, proxies, timeout):\n\u001b[0;32m      9\u001b[0m     resp \u001b[38;5;241m=\u001b[39m get(\n\u001b[0;32m     10\u001b[0m         url\u001b[38;5;241m=\u001b[39m\u001b[38;5;124m\"\u001b[39m\u001b[38;5;124mhttps://www.google.com/search\u001b[39m\u001b[38;5;124m\"\u001b[39m,\n\u001b[0;32m     11\u001b[0m         headers\u001b[38;5;241m=\u001b[39m{\n\u001b[1;32m   (...)\u001b[0m\n\u001b[0;32m     21\u001b[0m         timeout\u001b[38;5;241m=\u001b[39mtimeout,\n\u001b[0;32m     22\u001b[0m     )\n\u001b[1;32m---> 23\u001b[0m     \u001b[43mresp\u001b[49m\u001b[38;5;241;43m.\u001b[39;49m\u001b[43mraise_for_status\u001b[49m\u001b[43m(\u001b[49m\u001b[43m)\u001b[49m\n\u001b[0;32m     24\u001b[0m     \u001b[38;5;28;01mreturn\u001b[39;00m resp\n",
      "File \u001b[1;32mc:\\Users\\uadrian\\AppData\\Local\\Programs\\Python\\Python312\\Lib\\site-packages\\requests-2.31.0-py3.12.egg\\requests\\models.py:1021\u001b[0m, in \u001b[0;36mResponse.raise_for_status\u001b[1;34m(self)\u001b[0m\n\u001b[0;32m   1016\u001b[0m     http_error_msg \u001b[38;5;241m=\u001b[39m (\n\u001b[0;32m   1017\u001b[0m         \u001b[38;5;124mf\u001b[39m\u001b[38;5;124m\"\u001b[39m\u001b[38;5;132;01m{\u001b[39;00m\u001b[38;5;28mself\u001b[39m\u001b[38;5;241m.\u001b[39mstatus_code\u001b[38;5;132;01m}\u001b[39;00m\u001b[38;5;124m Server Error: \u001b[39m\u001b[38;5;132;01m{\u001b[39;00mreason\u001b[38;5;132;01m}\u001b[39;00m\u001b[38;5;124m for url: \u001b[39m\u001b[38;5;132;01m{\u001b[39;00m\u001b[38;5;28mself\u001b[39m\u001b[38;5;241m.\u001b[39murl\u001b[38;5;132;01m}\u001b[39;00m\u001b[38;5;124m\"\u001b[39m\n\u001b[0;32m   1018\u001b[0m     )\n\u001b[0;32m   1020\u001b[0m \u001b[38;5;28;01mif\u001b[39;00m http_error_msg:\n\u001b[1;32m-> 1021\u001b[0m     \u001b[38;5;28;01mraise\u001b[39;00m HTTPError(http_error_msg, response\u001b[38;5;241m=\u001b[39m\u001b[38;5;28mself\u001b[39m)\n",
      "\u001b[1;31mHTTPError\u001b[0m: 429 Client Error: Too Many Requests for url: https://www.google.com/sorry/index?continue=https://www.google.com/search%3Fq%3DASSOC%252BPROF.%252BIr.%252BDr.%252BSAIDDI%252BALI%252BFIRDAUS%252BB%252BMOHAMED%252BISHAK%252BLinkedin%26num%3D12%26hl%3Den%26start%3D0&hl=en&q=EgS3q2b9GPKpk7EGIjCLQaJOq478v40R880mCno3ya2fC7w0XyQ2fUhYYQZNJdxQU00XA4PjW9vprvax6eEyAXJaAUM"
     ]
    }
   ],
   "source": [
    "# List to store results\n",
    "results = []\n",
    "\n",
    "# Iterate over queries in the DataFrame\n",
    "for query in df1['Query']:\n",
    "    result = get_first_google_link(query)\n",
    "    if result:\n",
    "        results.append(result)\n",
    "    # Pause for a few seconds between requests\n",
    "    time.sleep(5)\n",
    "\n",
    "# Convert results to DataFrame\n",
    "results_df = pd.DataFrame(results)\n",
    "\n",
    "# Display the results DataFrame\n",
    "print(results_df)\n"
   ]
  }
 ],
 "metadata": {
  "kernelspec": {
   "display_name": "Python 3",
   "language": "python",
   "name": "python3"
  },
  "language_info": {
   "codemirror_mode": {
    "name": "ipython",
    "version": 3
   },
   "file_extension": ".py",
   "mimetype": "text/x-python",
   "name": "python",
   "nbconvert_exporter": "python",
   "pygments_lexer": "ipython3",
   "version": "3.12.0"
  }
 },
 "nbformat": 4,
 "nbformat_minor": 2
}

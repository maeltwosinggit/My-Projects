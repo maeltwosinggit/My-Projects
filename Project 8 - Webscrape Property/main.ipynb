{
 "cells": [
  {
   "cell_type": "code",
   "execution_count": 35,
   "metadata": {},
   "outputs": [],
   "source": [
    "from selenium import webdriver\n",
    "from selenium.webdriver.chrome.service import Service\n",
    "from selenium.webdriver.chrome.options import Options\n",
    "from selenium.webdriver.common.by import By\n",
    "import pandas as pd\n",
    "import time"
   ]
  },
  {
   "cell_type": "code",
   "execution_count": 39,
   "metadata": {},
   "outputs": [
    {
     "name": "stdout",
     "output_type": "stream",
     "text": [
      "Links saved to 'extracted_links.xlsx'\n"
     ]
    }
   ],
   "source": [
    "# Path to your Brave browser\n",
    "brave_path = r\"C:\\Program Files\\BraveSoftware\\Brave-Browser\\Application\\brave.exe\"  # Update this with your actual Brave path\n",
    "\n",
    "# Path to your ChromeDriver (chromedriver)\n",
    "chrome_driver_path = r\"chromedriver-win64\\chromedriver.exe\"  # Update this with your actual ChromeDriver path\n",
    "\n",
    "# Set up ChromeOptions for Brave\n",
    "options = Options()\n",
    "options.binary_location = brave_path\n",
    "\n",
    "# List of URLs to scrape\n",
    "urls = [\n",
    "    'https://www.propertyguru.com.my/property-for-sale/at-arte-mont-kiara-kuala-lumpur-7103',\n",
    "    'https://www.propertyguru.com.my/property-for-sale/at-arte-mont-kiara-kuala-lumpur-7103/2?',\n",
    "    'https://www.propertyguru.com.my/property-for-sale/at-arte-mont-kiara-kuala-lumpur-7103/3?'\n",
    "]\n",
    "\n",
    "all_links = []\n",
    "\n",
    "for url in urls:\n",
    "    # Initialize WebDriver for each URL\n",
    "    service = Service(chrome_driver_path)\n",
    "    driver = webdriver.Chrome(service=service, options=options)\n",
    "    \n",
    "    driver.get(url)\n",
    "    # time.sleep(2)  # Give the page time to load\n",
    "\n",
    "    # Extract links with class 'nav-link'\n",
    "    try:\n",
    "        links = driver.find_elements(By.CLASS_NAME, 'nav-link')\n",
    "        for link in links:\n",
    "            all_links.append(link.get_attribute('href'))\n",
    "    except Exception as e:\n",
    "        print(f\"Error occurred while scraping {url}: {e}\")\n",
    "    finally:\n",
    "        # Quit the driver after scraping each URL\n",
    "        driver.quit()\n",
    "\n",
    "# Save extracted links to an Excel file\n",
    "df = pd.DataFrame(all_links, columns=[\"Links\"])\n",
    "\n",
    "# Remove blank rows and duplicates\n",
    "df = df.dropna().drop_duplicates()\n",
    "\n",
    "# Save the cleaned DataFrame to Excel\n",
    "df.to_excel(\"extracted_links.xlsx\", index=False)\n",
    "\n",
    "print(\"Links saved to 'extracted_links.xlsx'\")"
   ]
  },
  {
   "cell_type": "code",
   "execution_count": null,
   "metadata": {},
   "outputs": [],
   "source": [
    "# ========selenium only example (need to learn more)====================\n",
    "# Example: Scrape the title of the page\n",
    "page_title = driver.title\n",
    "print(f\"Page Title: {page_title}\")\n",
    "\n",
    "# # Example: Scrape property details (you'll need to inspect the page for specific elements)\n",
    "# price_tag = driver.find_element(By.CLASS_NAME, 'price-tag')\n",
    "# print(f\"Price: {price_tag.text}\")\n",
    "\n",
    "# Close the browser\n",
    "driver.quit()"
   ]
  },
  {
   "cell_type": "code",
   "execution_count": null,
   "metadata": {},
   "outputs": [],
   "source": []
  }
 ],
 "metadata": {
  "kernelspec": {
   "display_name": "Python 3",
   "language": "python",
   "name": "python3"
  },
  "language_info": {
   "codemirror_mode": {
    "name": "ipython",
    "version": 3
   },
   "file_extension": ".py",
   "mimetype": "text/x-python",
   "name": "python",
   "nbconvert_exporter": "python",
   "pygments_lexer": "ipython3",
   "version": "3.12.6"
  }
 },
 "nbformat": 4,
 "nbformat_minor": 2
}

{
 "cells": [
  {
   "cell_type": "code",
   "execution_count": 1,
   "metadata": {},
   "outputs": [],
   "source": [
    "import pandas as pd"
   ]
  },
  {
   "cell_type": "code",
   "execution_count": 2,
   "metadata": {},
   "outputs": [],
   "source": [
    "# Initialize an empty list to store DataFrames\n",
    "dfs = []\n",
    "\n",
    "# Loop through the years 2000 to 2024\n",
    "for year in range(2000, 2025):\n",
    "    # Generate the URL for each parquet file\n",
    "    URL_DATA = f'https://storage.data.gov.my/transportation/cars_{year}.parquet'\n",
    "    \n",
    "    # Read the parquet file into a DataFrame\n",
    "    df = pd.read_parquet(URL_DATA)\n",
    "    \n",
    "    # Convert 'date' to datetime if the column exists\n",
    "    if 'date' in df.columns:\n",
    "        df['date'] = pd.to_datetime(df['date'])\n",
    "    \n",
    "    # Convert 'date_reg' column to datetime, assuming it's in nanoseconds\n",
    "    df['date_reg'] = pd.to_datetime(df['date_reg'], unit='ns')\n",
    "    7 \n",
    "    # Append the DataFrame to the list\n",
    "    dfs.append(df)\n",
    "\n",
    "# Concatenate all DataFrames in the list into a single DataFrame\n",
    "final_df = pd.concat(dfs, ignore_index=True)"
   ]
  },
  {
   "cell_type": "code",
   "execution_count": 10,
   "metadata": {},
   "outputs": [],
   "source": [
    "unique_df1 = final_df[['maker','model','type']].drop_duplicates()\n",
    "unique_df2 = final_df[['maker','model']].drop_duplicates()\n",
    "\n",
    "# Save both DataFrames to different sheets in the same Excel file\n",
    "with pd.ExcelWriter('car_types.xlsx', engine='xlsxwriter') as writer:\n",
    "    unique_df1.to_excel(writer, sheet_name='Sheet1', index=False)\n",
    "    unique_df2.to_excel(writer, sheet_name='Sheet2', index=False)"
   ]
  },
  {
   "cell_type": "code",
   "execution_count": null,
   "metadata": {},
   "outputs": [],
   "source": []
  },
  {
   "cell_type": "code",
   "execution_count": null,
   "metadata": {},
   "outputs": [],
   "source": []
  },
  {
   "cell_type": "code",
   "execution_count": null,
   "metadata": {},
   "outputs": [],
   "source": []
  },
  {
   "cell_type": "code",
   "execution_count": null,
   "metadata": {},
   "outputs": [],
   "source": []
  }
 ],
 "metadata": {
  "kernelspec": {
   "display_name": "venv",
   "language": "python",
   "name": "python3"
  },
  "language_info": {
   "codemirror_mode": {
    "name": "ipython",
    "version": 3
   },
   "file_extension": ".py",
   "mimetype": "text/x-python",
   "name": "python",
   "nbconvert_exporter": "python",
   "pygments_lexer": "ipython3",
   "version": "3.12.6"
  }
 },
 "nbformat": 4,
 "nbformat_minor": 2
}
